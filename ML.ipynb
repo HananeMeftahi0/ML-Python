{
  "nbformat": 4,
  "nbformat_minor": 0,
  "metadata": {
    "colab": {
      "name": "Untitled14.ipynb",
      "provenance": [],
      "collapsed_sections": []
    },
    "kernelspec": {
      "name": "python3",
      "display_name": "Python 3"
    }
  },
  "cells": [
    {
      "cell_type": "code",
      "metadata": {
        "id": "Ajh8YZfsT5ot"
      },
      "source": [
        "#simple_linear_regression\n",
        "import sklearn"
      ],
      "execution_count": null,
      "outputs": []
    },
    {
      "cell_type": "code",
      "metadata": {
        "id": "gT6jFBxWUOtA",
        "outputId": "49e426d1-8eb9-47f1-ad9c-3fe23d66d3fc",
        "colab": {
          "base_uri": "https://localhost:8080/",
          "height": 40
        }
      },
      "source": [
        "sklearn.__version__"
      ],
      "execution_count": null,
      "outputs": [
        {
          "output_type": "execute_result",
          "data": {
            "application/vnd.google.colaboratory.intrinsic+json": {
              "type": "string"
            },
            "text/plain": [
              "'0.22.2.post1'"
            ]
          },
          "metadata": {
            "tags": []
          },
          "execution_count": 2
        }
      ]
    },
    {
      "cell_type": "code",
      "metadata": {
        "id": "DseYQM3qhVFY"
      },
      "source": [
        "import numpy as np\n",
        "import matplotlib.pyplot as plt"
      ],
      "execution_count": null,
      "outputs": []
    },
    {
      "cell_type": "code",
      "metadata": {
        "id": "JsNEW-EbiM1J"
      },
      "source": [
        "X=np.array([[6],[8],[10],[14],[18]]).reshape(-1,1)\n"
      ],
      "execution_count": null,
      "outputs": []
    },
    {
      "cell_type": "code",
      "metadata": {
        "id": "7PqjraAvjNHx",
        "outputId": "f966861b-899e-4aa5-8886-25d9bc22c33a",
        "colab": {
          "base_uri": "https://localhost:8080/",
          "height": 34
        }
      },
      "source": [
        "y=[7,9,13,17.5,18]\n",
        "y"
      ],
      "execution_count": null,
      "outputs": [
        {
          "output_type": "execute_result",
          "data": {
            "text/plain": [
              "[7, 9, 13, 17.5, 18]"
            ]
          },
          "metadata": {
            "tags": []
          },
          "execution_count": 7
        }
      ]
    },
    {
      "cell_type": "code",
      "metadata": {
        "id": "vQEQfmsplX8m",
        "outputId": "a47f1ed2-a236-49a1-9b4f-6c8a2081789c",
        "colab": {
          "base_uri": "https://localhost:8080/",
          "height": 295
        }
      },
      "source": [
        "plt.figure()\n",
        "plt.title(\"pizza price plotted against diameter\")\n",
        "plt.xlabel(\"diameter in inches\")\n",
        "plt.ylabel(\"price in dollars\")\n",
        "plt.plot(X,y,\"k.\")\n",
        "plt.axis([0, 25, 0, 25])\n",
        "plt.grid(True)\n",
        "plt.show()"
      ],
      "execution_count": null,
      "outputs": [
        {
          "output_type": "display_data",
          "data": {
            "image/png": "[encoded data removed]",
            "text/plain": [
              "<Figure size 432x288 with 1 Axes>"
            ]
          },
          "metadata": {
            "tags": [],
            "needs_background": "light"
          }
        }
      ]
    },
    {
      "cell_type": "code",
      "metadata": {
        "id": "i44R3PiKmGnZ",
        "outputId": "0ad3e431-1dac-4c2e-f98b-3ad03df341b8",
        "colab": {
          "base_uri": "https://localhost:8080/",
          "height": 34
        }
      },
      "source": [
        "from sklearn.linear_model import LinearRegression\n",
        "model=LinearRegression()\n",
        "model.fit(X,y)"
      ],
      "execution_count": null,
      "outputs": [
        {
          "output_type": "execute_result",
          "data": {
            "text/plain": [
              "LinearRegression(copy_X=True, fit_intercept=True, n_jobs=None, normalize=False)"
            ]
          },
          "metadata": {
            "tags": []
          },
          "execution_count": 9
        }
      ]
    },
    {
      "cell_type": "code",
      "metadata": {
        "id": "7akSeBdcm7rU",
        "outputId": "d58aa9fa-4c05-46a9-f657-a573e5743c9c",
        "colab": {
          "base_uri": "https://localhost:8080/",
          "height": 34
        }
      },
      "source": [
        "test_pizza=np.array([[12]])\n",
        "predicted_price=model.predict(test_pizza)[0]\n",
        "print(\"the predicted price is \",predicted_price)\n"
      ],
      "execution_count": null,
      "outputs": [
        {
          "output_type": "stream",
          "text": [
            "the predicted price is  13.681034482758621\n"
          ],
          "name": "stdout"
        }
      ]
    },
    {
      "cell_type": "code",
      "metadata": {
        "id": "n4zIaRLCValp",
        "outputId": "c743a5cc-63bb-4f1e-c3d6-5b64a6f467ff",
        "colab": {
          "base_uri": "https://localhost:8080/",
          "height": 34
        }
      },
      "source": [
        "print(\"Residual sum of squares: %.2f\" % np.mean((model.predict(X)-y)**2))"
      ],
      "execution_count": null,
      "outputs": [
        {
          "output_type": "stream",
          "text": [
            "Residual sum of squares: 1.75\n"
          ],
          "name": "stdout"
        }
      ]
    },
    {
      "cell_type": "code",
      "metadata": {
        "id": "6NSM_K73XuaD",
        "outputId": "557f5eef-444c-48a8-c92f-e3efa546fef6",
        "colab": {
          "base_uri": "https://localhost:8080/",
          "height": 34
        }
      },
      "source": [
        "x_bar=X.mean()\n",
        "x_bar"
      ],
      "execution_count": null,
      "outputs": [
        {
          "output_type": "execute_result",
          "data": {
            "text/plain": [
              "11.2"
            ]
          },
          "metadata": {
            "tags": []
          },
          "execution_count": 12
        }
      ]
    },
    {
      "cell_type": "code",
      "metadata": {
        "id": "KpDTfs_9YBPZ",
        "outputId": "21cc13da-797e-4bd8-b444-62ab223fa773",
        "colab": {
          "base_uri": "https://localhost:8080/",
          "height": 34
        }
      },
      "source": [
        "variance=((X-x_bar)**2).sum()/(X.shape[0]-1)\n",
        "variance"
      ],
      "execution_count": null,
      "outputs": [
        {
          "output_type": "execute_result",
          "data": {
            "text/plain": [
              "23.2"
            ]
          },
          "metadata": {
            "tags": []
          },
          "execution_count": 13
        }
      ]
    },
    {
      "cell_type": "code",
      "metadata": {
        "id": "7j_RvE-IZI3_",
        "outputId": "aa264977-1a80-4e80-dcaf-19930cb2a7cd",
        "colab": {
          "base_uri": "https://localhost:8080/",
          "height": 34
        }
      },
      "source": [
        "print(np.var(X,ddof=1))"
      ],
      "execution_count": null,
      "outputs": [
        {
          "output_type": "stream",
          "text": [
            "23.2\n"
          ],
          "name": "stdout"
        }
      ]
    },
    {
      "cell_type": "code",
      "metadata": {
        "id": "pA2Rk3RtaNaN",
        "outputId": "f841223f-0f74-4e88-b1fd-dd044d63e420",
        "colab": {
          "base_uri": "https://localhost:8080/",
          "height": 34
        }
      },
      "source": [
        "\n",
        "print(np.cov(X.transpose(),y)[0][1])"
      ],
      "execution_count": null,
      "outputs": [
        {
          "output_type": "stream",
          "text": [
            "22.650000000000002\n"
          ],
          "name": "stdout"
        }
      ]
    },
    {
      "cell_type": "code",
      "metadata": {
        "id": "2GHc5mflc1i7",
        "outputId": "86f3ce90-c359-4861-fd33-77c8bae74d65",
        "colab": {
          "base_uri": "https://localhost:8080/",
          "height": 34
        }
      },
      "source": [
        "covariance=np.cov(X.transpose(),y)[0][1]\n",
        "beta=covariance/variance \n",
        "print(beta)\n"
      ],
      "execution_count": null,
      "outputs": [
        {
          "output_type": "stream",
          "text": [
            "0.976293103448276\n"
          ],
          "name": "stdout"
        }
      ]
    },
    {
      "cell_type": "code",
      "metadata": {
        "id": "EbNj1zpSfgId",
        "outputId": "ecefc492-657f-4b53-f65c-9659285b722a",
        "colab": {
          "base_uri": "https://localhost:8080/",
          "height": 34
        }
      },
      "source": [
        "X_test=np.array([8,9,11,16,12]).reshape(-1,1)\n",
        "y_test=[11,8.5,15,18,11]\n",
        "model.fit(X,y)\n",
        "Rsquared=model.score(X_test,y_test)\n",
        "print(Rsquared)"
      ],
      "execution_count": null,
      "outputs": [
        {
          "output_type": "stream",
          "text": [
            "0.6620052929422553\n"
          ],
          "name": "stdout"
        }
      ]
    },
    {
      "cell_type": "code",
      "metadata": {
        "id": "llf8X-QjeDxl"
      },
      "source": [
        "#classification with KNN\n",
        "import numpy as np\n",
        "import matplotlib.pyplot as plt\n",
        "\n",
        "X_train=np.array([\n",
        "[158,64],\n",
        "[170,86],\n",
        "[183,84],\n",
        "[191,80],\n",
        "[155,49],\n",
        "[163,59],\n",
        "[180,67],\n",
        "[158,54],\n",
        "[170,67]\n",
        "])\n",
        "\n",
        "y_train=['male','male','male','male','female','female','female','female','female']"
      ],
      "execution_count": null,
      "outputs": []
    },
    {
      "cell_type": "code",
      "metadata": {
        "id": "1kmbp9tR69Tf",
        "outputId": "8e759c42-b733-4b9a-e566-88568afd98b6",
        "colab": {
          "base_uri": "https://localhost:8080/",
          "height": 295
        }
      },
      "source": [
        "plt.figure()\n",
        "plt.title(\"human hights and wights by sex\")\n",
        "plt.xlabel(\"Height in cm\")\n",
        "plt.ylabel(\"Weight in kg\")\n",
        "for i,x in enumerate(X_train):\n",
        "  plt.scatter(x[0],x[1],c='k',marker='x' if y_train[i]=='male' else 'D')\n",
        "\n",
        "plt.grid(True)\n",
        "plt.show()  "
      ],
      "execution_count": null,
      "outputs": [
        {
          "output_type": "display_data",
          "data": {
            "image/png": "[encoded data removed]",
            "text/plain": [
              "<Figure size 432x288 with 1 Axes>"
            ]
          },
          "metadata": {
            "tags": [],
            "needs_background": "light"
          }
        }
      ]
    },
    {
      "cell_type": "code",
      "metadata": {
        "id": "nxk6CazF94qH",
        "outputId": "77d0ad61-7ba6-4496-e81a-671067ce325a",
        "colab": {
          "base_uri": "https://localhost:8080/",
          "height": 52
        }
      },
      "source": [
        "x=np.array([[155,70]])\n",
        "distances=np.sqrt(np.sum((X_train-x)**2,axis=1))\n",
        "distances"
      ],
      "execution_count": null,
      "outputs": [
        {
          "output_type": "execute_result",
          "data": {
            "text/plain": [
              "array([ 6.70820393, 21.9317122 , 31.30495168, 37.36308338, 21.        ,\n",
              "       13.60147051, 25.17935662, 16.2788206 , 15.29705854])"
            ]
          },
          "metadata": {
            "tags": []
          },
          "execution_count": 6
        }
      ]
    },
    {
      "cell_type": "code",
      "metadata": {
        "id": "Das_EncnXOVu",
        "outputId": "072e37a7-66d5-4cbe-ff29-71c9755bd136",
        "colab": {
          "base_uri": "https://localhost:8080/",
          "height": 34
        }
      },
      "source": [
        "nearest_neighbor_indices=distances.argsort()[:3]\n",
        "nearest_neighbor_genders=np.take(y_train,nearest_neighbor_indices)\n",
        "nearest_neighbor_genders\n"
      ],
      "execution_count": null,
      "outputs": [
        {
          "output_type": "execute_result",
          "data": {
            "text/plain": [
              "array(['male', 'female', 'female'], dtype='<U6')"
            ]
          },
          "metadata": {
            "tags": []
          },
          "execution_count": 8
        }
      ]
    },
    {
      "cell_type": "code",
      "metadata": {
        "id": "3O81YKsjY1rQ",
        "outputId": "4ae1c923-f334-4b04-94c7-55a5a02c2789",
        "colab": {
          "base_uri": "https://localhost:8080/",
          "height": 40
        }
      },
      "source": [
        "from collections import Counter\n",
        "b=Counter(np.take(y_train,distances.argsort()[:3]))\n",
        "b.most_common(1)[0][0]"
      ],
      "execution_count": null,
      "outputs": [
        {
          "output_type": "execute_result",
          "data": {
            "application/vnd.google.colaboratory.intrinsic+json": {
              "type": "string"
            },
            "text/plain": [
              "'female'"
            ]
          },
          "metadata": {
            "tags": []
          },
          "execution_count": 9
        }
      ]
    },
    {
      "cell_type": "code",
      "metadata": {
        "id": "D2OEtFFnaDyD",
        "outputId": "8486cf9f-364d-4c58-9f53-9233b2b2fc62",
        "colab": {
          "base_uri": "https://localhost:8080/",
          "height": 173
        }
      },
      "source": [
        "from sklearn.preprocessing import LabelBinarizer\n",
        "from sklearn.neighbors import KNeighborsClassifier\n",
        "\n",
        "lb=LabelBinarizer()\n",
        "y_train_binarized=lb.fit_transform(y_train)\n",
        "y_train_binarized"
      ],
      "execution_count": null,
      "outputs": [
        {
          "output_type": "execute_result",
          "data": {
            "text/plain": [
              "array([[1],\n",
              "       [1],\n",
              "       [1],\n",
              "       [1],\n",
              "       [0],\n",
              "       [0],\n",
              "       [0],\n",
              "       [0],\n",
              "       [0]])"
            ]
          },
          "metadata": {
            "tags": []
          },
          "execution_count": 10
        }
      ]
    },
    {
      "cell_type": "code",
      "metadata": {
        "id": "yMIRMGCobBro",
        "outputId": "723f91f8-4dad-4716-875d-00aa19e77cde",
        "colab": {
          "base_uri": "https://localhost:8080/",
          "height": 34
        }
      },
      "source": [
        "k=3\n",
        "clf=KNeighborsClassifier(n_neighbors=k)\n",
        "clf.fit(X_train,y_train_binarized.reshape(-1))\n",
        "prediction_binarized=clf.predict(np.array([155,70]).reshape(1,-1))[0]\n",
        "predicted_label=lb.inverse_transform(prediction_binarized)\n",
        "predicted_label"
      ],
      "execution_count": null,
      "outputs": [
        {
          "output_type": "execute_result",
          "data": {
            "text/plain": [
              "array(['female'], dtype='<U6')"
            ]
          },
          "metadata": {
            "tags": []
          },
          "execution_count": 13
        }
      ]
    },
    {
      "cell_type": "code",
      "metadata": {
        "id": "Bhy1Qkjudj6X",
        "outputId": "8fd32542-8cfd-4f86-cb1c-93cce1ed4a5e",
        "colab": {
          "base_uri": "https://localhost:8080/",
          "height": 34
        }
      },
      "source": [
        "X_test=np.array([\n",
        "                 [168,65],\n",
        "                 [180,96],\n",
        "                 [160,52],\n",
        "                 [169,67]\n",
        "\n",
        "])\n",
        "y_test=['male','male','female','female']\n",
        "y_test_binarized=lb.transform(y_test)\n",
        "y_test_binarized.T[0]"
      ],
      "execution_count": null,
      "outputs": [
        {
          "output_type": "execute_result",
          "data": {
            "text/plain": [
              "array([1, 1, 0, 0])"
            ]
          },
          "metadata": {
            "tags": []
          },
          "execution_count": 19
        }
      ]
    },
    {
      "cell_type": "code",
      "metadata": {
        "id": "riXgG0H0e2dF",
        "outputId": "59bb0162-d035-4691-cc86-a199fe77091f",
        "colab": {
          "base_uri": "https://localhost:8080/",
          "height": 34
        }
      },
      "source": [
        "predictions_binarized=clf.predict(X_test)\n",
        "lb.inverse_transform(predictions_binarized)"
      ],
      "execution_count": null,
      "outputs": [
        {
          "output_type": "execute_result",
          "data": {
            "text/plain": [
              "array(['female', 'male', 'female', 'female'], dtype='<U6')"
            ]
          },
          "metadata": {
            "tags": []
          },
          "execution_count": 21
        }
      ]
    },
    {
      "cell_type": "code",
      "metadata": {
        "id": "pGD5feXPftfP",
        "outputId": "c8bab0c0-7736-4346-d1d7-0ee79b21fab0",
        "colab": {
          "base_uri": "https://localhost:8080/",
          "height": 34
        }
      },
      "source": [
        "from sklearn.metrics import accuracy_score\n",
        "accuracy_score(y_test_binarized,predictions_binarized)"
      ],
      "execution_count": null,
      "outputs": [
        {
          "output_type": "execute_result",
          "data": {
            "text/plain": [
              "0.75"
            ]
          },
          "metadata": {
            "tags": []
          },
          "execution_count": 23
        }
      ]
    },
    {
      "cell_type": "code",
      "metadata": {
        "id": "qu8Q34Bmgp2P",
        "outputId": "5be1f7be-8edc-4461-d206-cc88f64db839",
        "colab": {
          "base_uri": "https://localhost:8080/",
          "height": 34
        }
      },
      "source": [
        "from sklearn.metrics import precision_score\n",
        "precision_score(y_test_binarized,predictions_binarized)"
      ],
      "execution_count": null,
      "outputs": [
        {
          "output_type": "execute_result",
          "data": {
            "text/plain": [
              "1.0"
            ]
          },
          "metadata": {
            "tags": []
          },
          "execution_count": 24
        }
      ]
    },
    {
      "cell_type": "code",
      "metadata": {
        "id": "r-3cAWJehCVY",
        "outputId": "99f12d19-9cef-4775-ba71-00aeda30983e",
        "colab": {
          "base_uri": "https://localhost:8080/",
          "height": 34
        }
      },
      "source": [
        "from sklearn.metrics import recall_score\n",
        "recall_score(y_test_binarized,predictions_binarized)"
      ],
      "execution_count": null,
      "outputs": [
        {
          "output_type": "execute_result",
          "data": {
            "text/plain": [
              "0.5"
            ]
          },
          "metadata": {
            "tags": []
          },
          "execution_count": 25
        }
      ]
    },
    {
      "cell_type": "code",
      "metadata": {
        "id": "DZPMzPCPhV9D",
        "outputId": "4b68def3-26cc-400e-a17f-2d561d3dc975",
        "colab": {
          "base_uri": "https://localhost:8080/",
          "height": 34
        }
      },
      "source": [
        "from sklearn.metrics import f1_score\n",
        "f1_score(y_test_binarized,predictions_binarized)"
      ],
      "execution_count": null,
      "outputs": [
        {
          "output_type": "execute_result",
          "data": {
            "text/plain": [
              "0.6666666666666666"
            ]
          },
          "metadata": {
            "tags": []
          },
          "execution_count": 26
        }
      ]
    },
    {
      "cell_type": "code",
      "metadata": {
        "id": "bKtW87PaiUb-",
        "outputId": "cd066a71-e8a1-4fe5-fcdd-d64605ff6b8c",
        "colab": {
          "base_uri": "https://localhost:8080/",
          "height": 58
        }
      },
      "source": [
        "from sklearn.metrics import classification_report\n",
        "classification_report(y_test_binarized,predictions_binarized,\n",
        "                      target_names=['male'],labels=[1])"
      ],
      "execution_count": null,
      "outputs": [
        {
          "output_type": "execute_result",
          "data": {
            "application/vnd.google.colaboratory.intrinsic+json": {
              "type": "string"
            },
            "text/plain": [
              "'              precision    recall  f1-score   support\\n\\n        male       1.00      0.50      0.67         2\\n\\n   micro avg       1.00      0.50      0.67         2\\n   macro avg       1.00      0.50      0.67         2\\nweighted avg       1.00      0.50      0.67         2\\n'"
            ]
          },
          "metadata": {
            "tags": []
          },
          "execution_count": 28
        }
      ]
    },
    {
      "cell_type": "code",
      "metadata": {
        "id": "n7GxjrChjEqj"
      },
      "source": [
        "#regression with KNN\n",
        "import numpy as np\n",
        "from sklearn.neighbors import KNeighborsRegressor\n",
        "from sklearn.metrics import mean_absolute_error,mean_squared_error,r2_score"
      ],
      "execution_count": null,
      "outputs": []
    },
    {
      "cell_type": "code",
      "metadata": {
        "id": "VeoFQ2S0ihgk"
      },
      "source": [
        "X_train=np.array([\n",
        "                  [158,1],\n",
        "                  [170,1],\n",
        "                  [183,1],\n",
        "                  [191,1],\n",
        "                  [155,0],\n",
        "                  [163,0],\n",
        "                  [180,0],\n",
        "                  [158,0],\n",
        "                  [170,0]\n",
        "])\n",
        "y_train=[64,86,84,80,49,59,67,54,67]\n",
        "X_test=np.array([\n",
        "                  [168,1],\n",
        "                  [180,1],\n",
        "                  [160,0],\n",
        "                  [169,0]\n",
        "])\n",
        "y_test=[65,96,52,67]\n"
      ],
      "execution_count": null,
      "outputs": []
    },
    {
      "cell_type": "code",
      "metadata": {
        "id": "EQ7BzYUHklJh",
        "outputId": "1a6604c8-ed70-40ac-9d5a-2dfc2624c9a1",
        "colab": {
          "base_uri": "https://localhost:8080/",
          "height": 86
        }
      },
      "source": [
        "k=3\n",
        "clf=KNeighborsRegressor(n_neighbors=k)\n",
        "clf.fit(X_train,y_train)\n",
        "prediction=clf.predict(X_test)\n",
        "print(prediction)\n",
        "print(mean_absolute_error(y_test,prediction))\n",
        "print(mean_squared_error(y_test,prediction))\n",
        "print(r2_score(y_test,prediction))"
      ],
      "execution_count": null,
      "outputs": [
        {
          "output_type": "stream",
          "text": [
            "[70.66666667 79.         59.         70.66666667]\n",
            "8.333333333333336\n",
            "95.8888888888889\n",
            "0.6290565226735438\n"
          ],
          "name": "stdout"
        }
      ]
    },
    {
      "cell_type": "code",
      "metadata": {
        "id": "EzVtJZ7wlmM9"
      },
      "source": [
        "from scipy.spatial.distance import euclidean\n",
        "X_train=np.array([\n",
        "                  [1700,1],\n",
        "                  [1600,0]\n",
        "])\n",
        "x_test=np.array([1640,1]).reshape(1,-1)\n"
      ],
      "execution_count": null,
      "outputs": []
    },
    {
      "cell_type": "code",
      "metadata": {
        "id": "kxDcHXK2qN5s",
        "outputId": "9e87ed5f-a67e-470a-f165-cd27f90c715b",
        "colab": {
          "base_uri": "https://localhost:8080/",
          "height": 52
        }
      },
      "source": [
        "print(euclidean(X_train[0,:],x_test))\n",
        "print(euclidean(X_train[1,:],x_test))"
      ],
      "execution_count": null,
      "outputs": [
        {
          "output_type": "stream",
          "text": [
            "60.0\n",
            "40.01249804748511\n"
          ],
          "name": "stdout"
        }
      ]
    },
    {
      "cell_type": "code",
      "metadata": {
        "id": "pnBwzEyMrBl8"
      },
      "source": [
        "X_train=np.array([\n",
        "                  [1.7,1],\n",
        "                  [1.6,0]\n",
        "])\n",
        "x_test=np.array([164,1]).reshape(1,-1)"
      ],
      "execution_count": null,
      "outputs": []
    },
    {
      "cell_type": "code",
      "metadata": {
        "id": "ta0W-hHWrEg1",
        "outputId": "1ce8b1e8-d967-46e0-c869-cc815fbd5643",
        "colab": {
          "base_uri": "https://localhost:8080/",
          "height": 52
        }
      },
      "source": [
        "print(euclidean(X_train[0,:],x_test))\n",
        "print(euclidean(X_train[1,:],x_test))"
      ],
      "execution_count": null,
      "outputs": [
        {
          "output_type": "stream",
          "text": [
            "162.3\n",
            "162.40307878855006\n"
          ],
          "name": "stdout"
        }
      ]
    },
    {
      "cell_type": "code",
      "metadata": {
        "id": "sfbuBHEHrwjA"
      },
      "source": [
        "from sklearn.preprocessing import StandardScaler\n",
        "ss=StandardScaler()"
      ],
      "execution_count": null,
      "outputs": []
    },
    {
      "cell_type": "code",
      "metadata": {
        "id": "hmu_DKXrsa2W",
        "outputId": "8a95a56b-e074-4234-fe6d-c62af74f8fcc",
        "colab": {
          "base_uri": "https://localhost:8080/",
          "height": 330
        }
      },
      "source": [
        "X_train_scaled=ss.fit_transform(X_train)\n",
        "print(X_train)\n",
        "print(X_train_scaled)"
      ],
      "execution_count": null,
      "outputs": [
        {
          "output_type": "stream",
          "text": [
            "[[158   1]\n",
            " [170   1]\n",
            " [183   1]\n",
            " [191   1]\n",
            " [155   0]\n",
            " [163   0]\n",
            " [180   0]\n",
            " [158   0]\n",
            " [170   0]]\n",
            "[[-0.9908706   1.11803399]\n",
            " [ 0.01869567  1.11803399]\n",
            " [ 1.11239246  1.11803399]\n",
            " [ 1.78543664  1.11803399]\n",
            " [-1.24326216 -0.89442719]\n",
            " [-0.57021798 -0.89442719]\n",
            " [ 0.86000089 -0.89442719]\n",
            " [-0.9908706  -0.89442719]\n",
            " [ 0.01869567 -0.89442719]]\n"
          ],
          "name": "stdout"
        }
      ]
    },
    {
      "cell_type": "code",
      "metadata": {
        "id": "RBoFokKCtIEl",
        "outputId": "48eb01ed-baa1-4044-9bb6-434ebe6566cd",
        "colab": {
          "base_uri": "https://localhost:8080/",
          "height": 86
        }
      },
      "source": [
        "X_test_scaled=ss.transform(X_test)\n",
        "clf.fit(X_train_scaled,y_train)\n",
        "prediction=clf.predict(X_test_scaled)\n",
        "print(prediction)\n",
        "print(mean_absolute_error(y_test,prediction))\n",
        "print(mean_squared_error(y_test,prediction))\n",
        "print(r2_score(y_test,prediction))"
      ],
      "execution_count": null,
      "outputs": [
        {
          "output_type": "stream",
          "text": [
            "[78.         83.33333333 54.         64.33333333]\n",
            "7.583333333333336\n",
            "85.13888888888893\n",
            "0.6706425961745109\n"
          ],
          "name": "stdout"
        }
      ]
    },
    {
      "cell_type": "code",
      "metadata": {
        "id": "rb0VZDG3upNj"
      },
      "source": [
        ""
      ],
      "execution_count": null,
      "outputs": []
    }
  ]
}